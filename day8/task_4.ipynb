{
 "cells": [
  {
   "cell_type": "markdown",
   "metadata": {},
   "source": [
    "[문제] \n",
    "\n",
    "'Employee' 클래스를 선언하세요. \n",
    "\n",
    "이 클래스는 월급인상률을 의미하는 클래스 변수로 'raise_amount'를 갖고 있으며, 기본값은 1.04입니다. 다음 급여는 기본 급여에 월급인상률을 곱한 값으로 결정합니다.\n",
    "\n",
    "또한, 각 직원의 이름(name)과 급여(salary)를 속성으로 가지며, 'apply_raise' 메소드를 통해 급여에 'raise_amount'를 적용할 수 있어야 합니다.\n",
    "\n",
    "'Employee' 클래스의 객체 두 개를 생성하고, 한 객체에만 'raise_amount'를 변경한 후, 두 객체의 급여를 증가시켜보세요.<br>\n",
    "그리고 각 객체의 새로운 급여를 출력하세요."
   ]
  },
  {
   "cell_type": "code",
   "execution_count": 49,
   "metadata": {},
   "outputs": [
    {
     "name": "stdout",
     "output_type": "stream",
     "text": [
      "급여는 52000입니다.\n"
     ]
    }
   ],
   "source": [
    "class Employee:\n",
    "    #월급인상률\n",
    "    raise_amount = 1.04\n",
    "\n",
    "    def __init__(self, name, salary):\n",
    "        self.name = name\n",
    "        self.salary = salary\n",
    "\n",
    "    def apply_raise(self):\n",
    "        #급여 = 기본급여 * 월급인상률\n",
    "        self.salary = int(self.salary * self.raise_amount)\n",
    "        return f\"급여는 {self.salary}입니다.\"\n",
    "\n",
    "# 객체 두개 생성                          \n",
    "emp_0 = Employee(\"직원1\", 50000)\n",
    "print(emp_0.apply_raise())"
   ]
  },
  {
   "cell_type": "code",
   "execution_count": null,
   "metadata": {},
   "outputs": [
    {
     "name": "stdout",
     "output_type": "stream",
     "text": [
      "53000\n",
      "50000\n"
     ]
    }
   ],
   "source": [
    "class Employee:\n",
    "    #월급인상률\n",
    "    raise_amount = 1.04\n",
    "\n",
    "    def __init__(self, name, salary):\n",
    "        self.name = name\n",
    "        self.salary = salary\n",
    "\n",
    "    def apply_raise(self):\n",
    "        #급여 = 기본급여 * 월급인상률\n",
    "        self.salary = int(self.salary * self.raise_amount)\n",
    "        return f\"급여는 {self.salary}입니다.\"\n",
    "\n",
    "# 객체 두개 생성                          \n",
    "emp_1 = Employee(\"직원1\", 50000)\n",
    "emp_2 = Employee(\"직원2\", 50000)\n",
    "\n",
    "#한 객체에만 'raise_amount'를 변경한 후, 두 객체의 급여를 증가\n",
    "Employee.raise_amount = 1.06\n",
    "emp_1.apply_raise()\n",
    "\n",
    "\n",
    "print(emp_1.salary)\n",
    "print(emp_2.salary)"
   ]
  }
 ],
 "metadata": {
  "kernelspec": {
   "display_name": "Python 3",
   "language": "python",
   "name": "python3"
  },
  "language_info": {
   "codemirror_mode": {
    "name": "ipython",
    "version": 3
   },
   "file_extension": ".py",
   "mimetype": "text/x-python",
   "name": "python",
   "nbconvert_exporter": "python",
   "pygments_lexer": "ipython3",
   "version": "3.9.6"
  }
 },
 "nbformat": 4,
 "nbformat_minor": 2
}
