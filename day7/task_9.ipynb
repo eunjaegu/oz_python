{
 "cells": [
  {
   "cell_type": "markdown",
   "metadata": {},
   "source": [
    "animals라는 패키지를 만들고, 이 패키지 내에 mammals, birds라는 두 개의 서브 모듈을 생성하세요. \n",
    "\n",
    "- 각 모듈에는 최소한 한 개 이상의 동물에 관한 클래스를 정의하세요<br>\n",
    "  (예: mammals에는 Dog, birds에는 Eagle)\n",
    "- 이 패키지와 모듈을 사용하여 동물들의 정보를 출력하는 프로그램을 작성\n",
    "\n",
    "폴더 및 파일 구조\n",
    "```\n",
    "animals/(폴더) \n",
    "├── __init__.py\n",
    "├── mammals.py\n",
    "└── birds.py\n",
    "```\n"
   ]
  },
  {
   "cell_type": "code",
   "execution_count": null,
   "metadata": {},
   "outputs": [
    {
     "name": "stdout",
     "output_type": "stream",
     "text": [
      "이름: Toto, Dallae, 품종: Dachshund\n",
      "이름: Jojo, 종: pigeon\n"
     ]
    }
   ],
   "source": [
    "# main.py\n",
    "# 메인에서 실행\n",
    "# 패키지 안에 있는 함수 임포트\n",
    "from task_9_animals.mammals import Dog\n",
    "from task_9_animals.birds import Eagle\n",
    "\n",
    "# Dog 객체 생성\n",
    "dog = Dog(name=\"Toto, Dallae\", breed=\"Dachshund\")\n",
    "print(dog.get_info())\n",
    "\n",
    "# Eagle 객체 생성\n",
    "eagle = Eagle(name=\"Jojo\", species=\"pigeon\")\n",
    "print(eagle.get_info())"
   ]
  },
  {
   "cell_type": "code",
   "execution_count": null,
   "metadata": {},
   "outputs": [],
   "source": [
    "# __init__.py\n",
    "# animals/__init__.py\n",
    "# 여기서 특별히 코드가 없어도 되지만, 패키지를 초기화 하는 데 사용될 수 있다."
   ]
  },
  {
   "cell_type": "code",
   "execution_count": null,
   "metadata": {},
   "outputs": [],
   "source": [
    "# birds.py\n",
    "class Eagle:\n",
    "    def __init__(self, name, species):\n",
    "        self.name = name\n",
    "        self.species  = species\n",
    "\n",
    "    def get_info(self):\n",
    "        return f\"이름: {self.name}, 종: {self.species}\"    "
   ]
  },
  {
   "cell_type": "code",
   "execution_count": null,
   "metadata": {},
   "outputs": [],
   "source": [
    "# mammals.py\n",
    "class Dog:\n",
    "    def __init__(self, name, breed):\n",
    "        self.name = name\n",
    "        self.breed = breed\n",
    "\n",
    "    def get_info(self):\n",
    "        return f\"이름: {self.name}, 품종: {self.breed}\"  "
   ]
  }
 ],
 "metadata": {
  "kernelspec": {
   "display_name": "Python 3",
   "language": "python",
   "name": "python3"
  },
  "language_info": {
   "codemirror_mode": {
    "name": "ipython",
    "version": 3
   },
   "file_extension": ".py",
   "mimetype": "text/x-python",
   "name": "python",
   "nbconvert_exporter": "python",
   "pygments_lexer": "ipython3",
   "version": "3.9.6"
  }
 },
 "nbformat": 4,
 "nbformat_minor": 2
}
