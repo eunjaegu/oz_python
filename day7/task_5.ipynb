{
 "cells": [
  {
   "cell_type": "markdown",
   "metadata": {},
   "source": [
    "datetime 모듈을 사용하여 현재 날짜와 시간을 출력하는 프로그램을 작성하세요. \n",
    "\n",
    "또한, 사용자로부터 태어난 년도를 입력받아 현재 나이를 계산하여 출력하세요."
   ]
  },
  {
   "cell_type": "code",
   "execution_count": 14,
   "metadata": {},
   "outputs": [
    {
     "name": "stdout",
     "output_type": "stream",
     "text": [
      "현재 날짜와 시간 2025-03-14 14:16:41.349312\n",
      "현재 나이는 25살입니다.\n"
     ]
    }
   ],
   "source": [
    "import datetime as dt\n",
    "# from datetime import datetime\n",
    "\n",
    "def cal_age():\n",
    "    now = dt.datetime.now()\n",
    "    print(f\"현재 날짜와 시간 {now}\")\n",
    "\n",
    "    birth_year = int(input(\"태어난 년도를 입력하세요: \"))\n",
    "    age = now.year - birth_year\n",
    "    print(f\"현재 나이는 {age}살입니다.\")\n",
    "\n",
    "cal_age()  # 나이를 계산하는 함수 호출"
   ]
  }
 ],
 "metadata": {
  "kernelspec": {
   "display_name": "Python 3",
   "language": "python",
   "name": "python3"
  },
  "language_info": {
   "codemirror_mode": {
    "name": "ipython",
    "version": 3
   },
   "file_extension": ".py",
   "mimetype": "text/x-python",
   "name": "python",
   "nbconvert_exporter": "python",
   "pygments_lexer": "ipython3",
   "version": "3.9.6"
  }
 },
 "nbformat": 4,
 "nbformat_minor": 2
}
