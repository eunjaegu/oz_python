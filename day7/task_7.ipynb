{
 "cells": [
  {
   "cell_type": "markdown",
   "metadata": {},
   "source": [
    "함수 실행 시간을 측정하는 데코레이터 timer_decorator를 작성하세요. \n",
    "\n",
    "임의의 함수가 실행되는 시간을 측정하여 \"함수 실행 시간: x.xx초\" 형태로 출력하세요."
   ]
  },
  {
   "cell_type": "code",
   "execution_count": null,
   "metadata": {},
   "outputs": [
    {
     "name": "stdout",
     "output_type": "stream",
     "text": [
      "함수 실행 시간: 0.00초\n"
     ]
    },
    {
     "data": {
      "text/plain": [
       "100000"
      ]
     },
     "execution_count": 15,
     "metadata": {},
     "output_type": "execute_result"
    }
   ],
   "source": [
    "import time\n",
    "\n",
    "#1. 함수 실행 시간을 측정하는 데코레이터 정의\n",
    "def timer_decorator(func):\n",
    "    # args : 튜플, kwargs : 딕셔너리\n",
    "    def wrapper(*args, **kwargs):\n",
    "        # 함수 실행 시간\n",
    "        start_time = time.time()    \n",
    "        # 함수 실행\n",
    "        result = func(*args, **kwargs)\n",
    "        # 함수 끝난 시간\n",
    "        end_time = time.time()\n",
    "        print(f'함수 실행 시간: {end_time - start_time:.2f}초')\n",
    "        return result\n",
    "    return wrapper\n",
    "\n",
    "# tmier_decorator 어노테이션을 사용하여 test_function을 데코레이터 적용\n",
    "@timer_decorator\n",
    "def test_function():\n",
    "    sum = 0\n",
    "    for i in range(100000):\n",
    "        sum += 1\n",
    "    return sum\n",
    "\n",
    "test_function()\n",
    "\n",
    "\n",
    "\n"
   ]
  }
 ],
 "metadata": {
  "kernelspec": {
   "display_name": "Python 3",
   "language": "python",
   "name": "python3"
  },
  "language_info": {
   "codemirror_mode": {
    "name": "ipython",
    "version": 3
   },
   "file_extension": ".py",
   "mimetype": "text/x-python",
   "name": "python",
   "nbconvert_exporter": "python",
   "pygments_lexer": "ipython3",
   "version": "3.9.6"
  }
 },
 "nbformat": 4,
 "nbformat_minor": 2
}
