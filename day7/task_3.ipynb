{
 "cells": [
  {
   "cell_type": "markdown",
   "metadata": {},
   "source": [
    "사용자로부터 여러 개의 숫자를 입력받아 리스트에 저장한 후, 사용자가 'done'이라고 입력할 때까지 계속 입력받으세요. \n",
    "\n",
    "- 입력 중 숫자가 아닌 값이 입력되면 ValueError를 처리\n",
    "- 숫자 외 값이 입력된 경우 어떤 값이 잘못 입력되었는지 사용자에게 알려주는 문구 출력<br>\n",
    "  (예: f\"잘못된 값: {변수}. 숫자를 입력해주세요.\")\n",
    "\n"
   ]
  },
  {
   "cell_type": "code",
   "execution_count": 3,
   "metadata": {},
   "outputs": [
    {
     "name": "stdout",
     "output_type": "stream",
     "text": [
      "잘못된 값: ㅇ 숫자를 입력해주세요.\n",
      "잘못된 값: ㅎ 숫자를 입력해주세요.\n",
      "잘못된 값: 정려 숫자를 입력해주세요.\n",
      "입력 숫자 : [1, 1, 1, 11, 11, 1, 1]\n"
     ]
    }
   ],
   "source": [
    "numbers = []\n",
    "while True:\n",
    "# 오류가 발생할 가능성이 있는 코드\n",
    "    try:\n",
    "        test = input(\"숫자를 입력해 주세요. 나가기를 원하면 '종료'라고 입력해주세요.\")\n",
    "        if test == \"종료\":\n",
    "            break\n",
    "        numbers.append(int(test))\n",
    "    # 예외발생 시 실행코드\n",
    "    except ValueError:\n",
    "        print(f\"잘못된 값: {test} 숫자를 입력해주세요.\")\n",
    "\n",
    "print(\"입력 숫자 :\", numbers)        \n",
    "\n"
   ]
  }
 ],
 "metadata": {
  "kernelspec": {
   "display_name": "Python 3",
   "language": "python",
   "name": "python3"
  },
  "language_info": {
   "codemirror_mode": {
    "name": "ipython",
    "version": 3
   },
   "file_extension": ".py",
   "mimetype": "text/x-python",
   "name": "python",
   "nbconvert_exporter": "python",
   "pygments_lexer": "ipython3",
   "version": "3.9.6"
  }
 },
 "nbformat": 4,
 "nbformat_minor": 2
}
