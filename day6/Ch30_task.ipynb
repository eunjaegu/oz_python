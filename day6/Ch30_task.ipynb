{
 "cells": [
  {
   "cell_type": "markdown",
   "metadata": {},
   "source": [
    "팩토리얼을 계산하는 재귀 함수 factorial을 작성하세요."
   ]
  },
  {
   "cell_type": "code",
   "execution_count": null,
   "metadata": {},
   "outputs": [
    {
     "name": "stdout",
     "output_type": "stream",
     "text": [
      "3628800\n"
     ]
    }
   ],
   "source": [
    "# 팩토리얼 : 자연수 n에 대해 1부터 n까지의 모든 정수를 곱한 값\n",
    "# 재귀함수 : 자기 자신을 호출하는 함수\n",
    "def factorial(n):\n",
    "     # 기본 조건: n이 0이면 1 반환\n",
    "    if n == 0:\n",
    "        return 1\n",
    "    else:\n",
    "    # 재귀 조건: n × factorial(n-1)\n",
    "        return n * factorial(n-1)\n",
    "    \n",
    "print(factorial(10))    "
   ]
  }
 ],
 "metadata": {
  "kernelspec": {
   "display_name": "Python 3",
   "language": "python",
   "name": "python3"
  },
  "language_info": {
   "codemirror_mode": {
    "name": "ipython",
    "version": 3
   },
   "file_extension": ".py",
   "mimetype": "text/x-python",
   "name": "python",
   "nbconvert_exporter": "python",
   "pygments_lexer": "ipython3",
   "version": "3.9.6"
  }
 },
 "nbformat": 4,
 "nbformat_minor": 2
}
