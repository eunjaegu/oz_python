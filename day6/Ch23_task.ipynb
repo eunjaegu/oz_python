{
 "cells": [
  {
   "cell_type": "markdown",
   "metadata": {},
   "source": [
    "사용자의 이름을 출력하는 함수 print_name을 작성하세요. 만약 이름이 주어지지 않았다면, 기본값으로 \"익명\"을 사용하세요."
   ]
  },
  {
   "cell_type": "code",
   "execution_count": null,
   "metadata": {},
   "outputs": [
    {
     "name": "stdout",
     "output_type": "stream",
     "text": [
      "익명\n",
      "최연아\n"
     ]
    }
   ],
   "source": [
    "def print_name(name=\"익명\"):\n",
    "    print(name)\n",
    "\n",
    "# 사용자 이름을 입력\n",
    "# \"익명\"이 기본값으로, 이름이 주어지지 않으면 \"익명\" 출력\n",
    "print_name()           \n",
    "print_name(\"최연아\")\n"
   ]
  },
  {
   "cell_type": "code",
   "execution_count": 10,
   "metadata": {},
   "outputs": [
    {
     "name": "stdout",
     "output_type": "stream",
     "text": [
      "익명\n",
      "최연아\n"
     ]
    }
   ],
   "source": [
    "# print_name 함수\n",
    "def print_name(name):\n",
    "    # 이름을 입력받지 않는 다면 익명 출력\n",
    "    if not name:\n",
    "        print(\"익명\")\n",
    "    # 이름을 입력 받으면 이름 출력    \n",
    "    else:\n",
    "        print(name)\n",
    "\n",
    "# 사용자 이름을 입력\n",
    "print_name(\"\")   \n",
    "print_name(\"최연아\")\n",
    "\n",
    "\n"
   ]
  }
 ],
 "metadata": {
  "kernelspec": {
   "display_name": "Python 3",
   "language": "python",
   "name": "python3"
  },
  "language_info": {
   "codemirror_mode": {
    "name": "ipython",
    "version": 3
   },
   "file_extension": ".py",
   "mimetype": "text/x-python",
   "name": "python",
   "nbconvert_exporter": "python",
   "pygments_lexer": "ipython3",
   "version": "3.9.6"
  }
 },
 "nbformat": 4,
 "nbformat_minor": 2
}
